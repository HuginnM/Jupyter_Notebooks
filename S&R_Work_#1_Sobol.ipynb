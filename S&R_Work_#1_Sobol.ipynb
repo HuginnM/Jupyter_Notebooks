{
 "cells": [
  {
   "cell_type": "markdown",
   "id": "af261eb2",
   "metadata": {},
   "source": [
    "# Рассчётно-графическая работа №1\n",
    "## Студент группы КА-03мп\n",
    "## Соболь Артур"
   ]
  },
  {
   "cell_type": "markdown",
   "id": "decb0fd7",
   "metadata": {},
   "source": [
    "### Импортируем необходимые библиотеки"
   ]
  },
  {
   "cell_type": "code",
   "execution_count": 45,
   "id": "a7f7a0b4",
   "metadata": {},
   "outputs": [],
   "source": [
    "import seaborn as sns\n",
    "import matplotlib.pyplot as plt\n",
    "from IPython.display import display, Math\n",
    "import statsmodels.api as sm\n",
    "from datetime import datetime\n",
    "import numpy as np\n",
    "from numpy.random import MT19937\n",
    "from numpy.random import RandomState, SeedSequence\n",
    "from scipy.signal import dlti, dlsim, unit_impulse\n",
    "from scipy.linalg import norm\n",
    "import typing as tp\n",
    "from itertools import combinations\n",
    "import numpy as np\n",
    "from scipy.signal import convolve\n",
    "from scipy.linalg import eig, inv"
   ]
  },
  {
   "cell_type": "code",
   "execution_count": 46,
   "id": "c1889754",
   "metadata": {},
   "outputs": [],
   "source": [
    "np.set_printoptions(precision=2)\n",
    "RS = RandomState(MT19937(SeedSequence(int(datetime.now().timestamp()*1e5))))"
   ]
  },
  {
   "cell_type": "markdown",
   "id": "0ba52801",
   "metadata": {},
   "source": [
    "### Сначала необходимо разработать класс, который будет иметь возможность генерировать данные, симулировать системный отклик, трансформировать данные в формы, необходимые для определённых моделей и возвращать параметры этих моделей."
   ]
  },
  {
   "cell_type": "code",
   "execution_count": null,
   "id": "baf3af53",
   "metadata": {},
   "outputs": [],
   "source": [
    "class LDS():\n",
    "    \"\"\"\n",
    "    Linear Dynamical System\n",
    "    -----------------------\n",
    "    Generates data\n",
    "    \"\"\"\n",
    "    def __init__(self, n_real: int, n_im: int, mode: str = 'observed'):\n",
    "        \"\"\"\n",
    "        Constructor method\n",
    "        ------------------\n",
    "        :param n: size of system\n",
    "        :type n: int\n",
    "        \"\"\"\n",
    "        self.n = 2*n_im + n_real\n",
    "        self.p_im = n_im\n",
    "        self.p_real = n_real\n",
    "        if mode not in ['control', 'observed']:\n",
    "            raise ValueError('mode must be strictly `conrol` or `observed`')\n",
    "        self._construct_params(mode)\n",
    "    \n",
    "    def _construct_params(self, mode: str) -> None:\n",
    "        \"\"\"\n",
    "        Calculate System Parameters\n",
    "        ---------------------------\n",
    "        :param mode: mode of system\n",
    "        \"\"\"\n",
    "        omega_im = [np.random.default_rng().uniform(low=0., high=np.pi/8)\n",
    "                        for _ in range(self.p_im)]\n",
    "        self.alpha_im = [np.random.default_rng().uniform(low=0.9, high=np.cos(omega))\n",
    "                        for omega in omega_im]\n",
    "        min_omega = np.argmin(omega_im) if omega_im else None\n",
    "        ro_min = self.alpha_im[min_omega]/np.cos(omega_im[min_omega]) if min_omega else 0.93\n",
    "        ro_real = [np.round(np.random.default_rng().uniform(low=ro_min, high=1.),4)\n",
    "                        for _ in range(self.p_real)]\n",
    "        ro_im = [np.round(alpha/np.cos(omega),4) for alpha, omega in zip(self.alpha_im, omega_im)]\n",
    "        self.beta_im = [np.sqrt(ro**2-alpha**2) for ro, alpha in zip(ro_im, self.alpha_im)]\n",
    "        self.ro = ro_real + ro_im\n",
    "        self.omega = [0. for _ in range(self.p_real)] + omega_im\n",
    "        self.f_s = [0. for _ in range(self.p_real)] +\\\n",
    "            [np.random.default_rng().uniform(low=0.5, high=1.)*np.random.default_rng().choice([-1., 1])\n",
    "            for _ in range(self.p_im)]\n",
    "        self.f_c = [np.random.default_rng().uniform(low=0.5, high=1.)*np.random.default_rng().choice([-1., 1])\n",
    "            for _ in range(self.p_real+self.p_im)]\n",
    "        if mode == 'observed':\n",
    "            self.c_s = [0. for _ in range(self.p_real+self.p_im)]\n",
    "            self.c_c = [1. for _ in range(self.p_real+self.p_im)]\n",
    "            self.b_s = self.f_s\n",
    "            self.b_c = self.f_c\n",
    "        else:\n",
    "            self.b_s = [0. for _ in range(self.p_real+self.p_im)]\n",
    "            self.b_c = [1. for _ in range(self.p_real+self.p_im)]\n",
    "            self.c_s = list(map(lambda x: -x, self.f_s))\n",
    "            self.c_c = self.f_c\n",
    "        \n",
    "    \n",
    "    def simulate(self, T: int, signal: np.ndarray) -> tp.List[float]:\n",
    "        \"\"\"\n",
    "        Simulates system response\n",
    "        -------------------------\n",
    "        \"\"\"\n",
    "        outputs = [sum([ro**(i)*(fc*np.cos(omega*i)+fs*np.sin(omega*i)) \n",
    "                    for (ro, fc, fs, omega) in zip(self.ro, self.f_c, self.f_s, self.omega)])\n",
    "                    for i in range(T+1)]\n",
    "        return np.append([0.], convolve(outputs, signal))[:T]\n",
    "\n",
    "\n",
    "    def transform_params(self) -> tp.List[np.ndarray]:\n",
    "        \"\"\"\n",
    "        Trasforms System params to State-Space and ARMA params\n",
    "        ------------------------------------------------------\n",
    "        \"\"\"\n",
    "        eigv = np.append(self.ro[:self.p_real], \n",
    "                    np.array([[a+b*1j, 1j*(-b)+a] for a, b in zip(self.alpha_im, self.beta_im)]).flatten())\n",
    "        indexes = range(self.n)\n",
    "        ai = [(-1)**i*np.sum([np.prod(eigv[list(idxs)]) for idxs in combinations(indexes, i+1)])\n",
    "                for i in indexes]\n",
    "        A = np.eye(len(eigv), k=-1)\n",
    "        A[:, -1] = np.array(ai[::-1]).T\n",
    "        C = np.append(np.zeros(self.n-1), [1.])\n",
    "        G_LHS = np.array([C@np.linalg.matrix_power(A, i) for i in range(len(A))])\n",
    "        G_RHS_REAL = [np.power(np.array(self.ro[:self.p_real]), i).tolist() for i in range(self.n)]\n",
    "        G_RHS_IM = [sum([np.linalg.matrix_power([[a, b], [-b, a]], i)[0].tolist()\n",
    "                    for (a,b) in zip(self.alpha_im, self.beta_im)], []) \n",
    "                    for i in range(self.n)]\n",
    "        T = np.linalg.solve(G_LHS, np.hstack((G_RHS_REAL, G_RHS_IM)))\n",
    "        B_RHS = sum([[fc] if fs == 0. else [fc, fs] for fc, fs in zip(self.f_c, self.f_s)], [])\n",
    "        B = T@B_RHS\n",
    "        return A, B, C\n",
    "    \n",
    "    def get_statespace(self) -> tp.List[np.ndarray]:\n",
    "        \"\"\"\n",
    "        Returns params for State-Space Form\n",
    "        -----------------------------------\n",
    "        \"\"\"\n",
    "        A, B, C = self.transform_params()\n",
    "        return A, B.reshape(-1,1), C.reshape(1,-1), [[0.]]\n",
    "    \n",
    "    def get_arma(self) -> tp.List[np.ndarray]:\n",
    "        \"\"\"\n",
    "        Returns params for ARMA Form\n",
    "        -----------------------------------\n",
    "        \"\"\"\n",
    "        A, B, _ = self.transform_params()\n",
    "        A = np.r_[1, -A[:, -1][::-1].ravel()]\n",
    "        B = np.r_[0, B[::-1]]\n",
    "        return A, B\n"
   ]
  },
  {
   "cell_type": "markdown",
   "id": "482cb5ac",
   "metadata": {},
   "source": [
    "### Разработаем две вспомогательные функции для визуализирования матрицы и построения графика сигнала. "
   ]
  },
  {
   "cell_type": "code",
   "execution_count": 21,
   "id": "f48808f8",
   "metadata": {},
   "outputs": [],
   "source": [
    "def bmatrix(a: np.ndarray, name: str) -> str:\n",
    "    if len(a.shape) > 2:\n",
    "        raise ValueError('Only 2 dim')\n",
    "        \n",
    "    lines = str(np.round(a, 3)).replace('[', '').replace(']', '').splitlines()\n",
    "    \n",
    "    Ar = [name + r' = \\begin{bmatrix}']\n",
    "    Ar += ['  ' + ' & '.join(l.split()) + r'\\\\' for l in lines]\n",
    "    Ar +=  [r'\\end{bmatrix}']\n",
    "    return '\\n'.join(Ar)\n",
    "\n",
    "def plot_signal(sig: np.ndarray, filtered: np.array) -> None:\n",
    "    fig, (ax_orig, ax_filt) = plt.subplots(2, 1, sharex=True)\n",
    "    ax_orig.plot(sig)\n",
    "    ax_orig.set_title('Original signal')\n",
    "    ax_orig.margins(0, 0.1)\n",
    "    ax_filt.plot(filtered)\n",
    "    \n",
    "    ax_filt.set_title('Filtered output')\n",
    "    ax_filt.margins(0, 0.1)\n",
    "    fig.tight_layout()\n",
    "    plt.show()"
   ]
  },
  {
   "cell_type": "markdown",
   "id": "f6322b40",
   "metadata": {},
   "source": [
    "## Теперь зададим начальные параметры и перейдём к реализации линейной модели и её симуляции.\n",
    "### NUM_REAL & NUM_COMPLEX будут отвечать за Жораднову клетку.\n",
    "### Также, укажем количество исследований - K."
   ]
  },
  {
   "cell_type": "code",
   "execution_count": 39,
   "id": "84e8cd24",
   "metadata": {},
   "outputs": [
    {
     "data": {
      "text/latex": [
       "$\\displaystyle f^s = \\begin{bmatrix}\n",
       "  0. & 0. & 0. & 0. & 0. & 0.72\\\\\n",
       "\\end{bmatrix}$"
      ],
      "text/plain": [
       "<IPython.core.display.Math object>"
      ]
     },
     "metadata": {},
     "output_type": "display_data"
    },
    {
     "data": {
      "text/latex": [
       "$\\displaystyle f^c = \\begin{bmatrix}\n",
       "  -0.72 & 1. & 0.96 & 0.6 & -0.9 & 0.57\\\\\n",
       "\\end{bmatrix}$"
      ],
      "text/plain": [
       "<IPython.core.display.Math object>"
      ]
     },
     "metadata": {},
     "output_type": "display_data"
    },
    {
     "data": {
      "text/latex": [
       "$\\displaystyle \\rho = \\begin{bmatrix}\n",
       "  0.99 & 0.99 & 0.98 & 0.98 & 0.99 & 0.91\\\\\n",
       "\\end{bmatrix}$"
      ],
      "text/plain": [
       "<IPython.core.display.Math object>"
      ]
     },
     "metadata": {},
     "output_type": "display_data"
    }
   ],
   "source": [
    "NUM_REAL = 5\n",
    "NUM_COMPLEX = 1\n",
    "K = 100\n",
    "\n",
    "lds = LDS(NUM_REAL, NUM_COMPLEX)\n",
    "sig = unit_impulse(K)\n",
    "\n",
    "display(Math(bmatrix(np.array(lds.f_s), r'f^s')))\n",
    "display(Math(bmatrix(np.array(lds.f_c), r'f^c')))\n",
    "display(Math(bmatrix(np.array(lds.ro), r'\\rho')))"
   ]
  },
  {
   "cell_type": "markdown",
   "id": "739dc622",
   "metadata": {},
   "source": [
    "### Произведём симуляцию линейной модели"
   ]
  },
  {
   "cell_type": "code",
   "execution_count": 40,
   "id": "bbc57ed1",
   "metadata": {},
   "outputs": [
    {
     "data": {
      "image/png": "[encoded data removed]",
      "text/plain": [
       "<Figure size 432x288 with 2 Axes>"
      ]
     },
     "metadata": {},
     "output_type": "display_data"
    }
   ],
   "source": [
    "%matplotlib inline\n",
    "sns.set()\n",
    "plot_signal(sig, lds.simulate(K, sig))"
   ]
  },
  {
   "cell_type": "markdown",
   "id": "791ba8b1",
   "metadata": {},
   "source": [
    "### Теперь рассмотрим ситуацию с пространством состояний "
   ]
  },
  {
   "cell_type": "code",
   "execution_count": 41,
   "id": "7d467d3b",
   "metadata": {},
   "outputs": [
    {
     "name": "stderr",
     "output_type": "stream",
     "text": [
      "/Users/huginn/Study/Math_Prog/linear_dynamics.py:84: ComplexWarning: Casting complex values to real discards the imaginary part\n",
      "  A[:, -1] = np.array(ai[::-1]).T\n"
     ]
    },
    {
     "data": {
      "image/png": "[encoded data removed]",
      "text/plain": [
       "<Figure size 432x288 with 2 Axes>"
      ]
     },
     "metadata": {
      "needs_background": "light"
     },
     "output_type": "display_data"
    }
   ],
   "source": [
    "system = dlti(*lds.get_statespace(), dt=1)\n",
    "\n",
    "_, y, _ = dlsim(system, sig)\n",
    "\n",
    "%matplotlib inline\n",
    "plot_signal(sig, y.T.ravel())\n",
    "\n"
   ]
  },
  {
   "cell_type": "markdown",
   "id": "88183f92",
   "metadata": {},
   "source": [
    "### Построим авторегрессионую модель ARMA и посмотрим как она будет вести с такими данными\n"
   ]
  },
  {
   "cell_type": "markdown",
   "id": "2f8a8acb",
   "metadata": {},
   "source": [
    "### Импортируем необходимые библиотеки"
   ]
  },
  {
   "cell_type": "code",
   "execution_count": 42,
   "id": "7646d032",
   "metadata": {},
   "outputs": [
    {
     "name": "stderr",
     "output_type": "stream",
     "text": [
      "/Users/huginn/Study/Math_Prog/linear_dynamics.py:84: ComplexWarning: Casting complex values to real discards the imaginary part\n",
      "  A[:, -1] = np.array(ai[::-1]).T\n"
     ]
    },
    {
     "data": {
      "image/png": "[encoded data removed]",
      "text/plain": [
       "<Figure size 432x288 with 2 Axes>"
      ]
     },
     "metadata": {
      "needs_background": "light"
     },
     "output_type": "display_data"
    }
   ],
   "source": [
    "arma_process = sm.tsa.ArmaProcess(*lds.get_arma())\n",
    "\n",
    "%matplotlib inline\n",
    "plot_signal(sig, arma_process.impulse_response(K))"
   ]
  },
  {
   "cell_type": "markdown",
   "id": "5d27b8d0",
   "metadata": {},
   "source": [
    "## Выводы\n",
    "### По итогам проделанной работы, после моделирования и симуляции линейной модели, можно сделать вывод, что все три модели показывают идентичные результаты."
   ]
  }
 ],
 "metadata": {
  "kernelspec": {
   "display_name": "Python 3",
   "language": "python",
   "name": "python3"
  },
  "language_info": {
   "codemirror_mode": {
    "name": "ipython",
    "version": 3
   },
   "file_extension": ".py",
   "mimetype": "text/x-python",
   "name": "python",
   "nbconvert_exporter": "python",
   "pygments_lexer": "ipython3",
   "version": "3.8.8"
  }
 },
 "nbformat": 4,
 "nbformat_minor": 5
}
